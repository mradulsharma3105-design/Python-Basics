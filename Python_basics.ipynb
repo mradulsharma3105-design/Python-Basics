{
  "nbformat": 4,
  "nbformat_minor": 0,
  "metadata": {
    "colab": {
      "provenance": []
    },
    "kernelspec": {
      "name": "python3",
      "display_name": "Python 3"
    },
    "language_info": {
      "name": "python"
    }
  },
  "cells": [
    {
      "cell_type": "markdown",
      "source": [
        "#THEORTICAL QUESTIONS"
      ],
      "metadata": {
        "id": "ktWgt0CRoF0o"
      }
    },
    {
      "cell_type": "markdown",
      "source": [
        "1. What is pyhton, and why is it popular?\n",
        "- > Python is a high-level, interpreted programming language known for its clean syntax and readability. It supports multiple paradigms (procedural, object-oriented, and functional) and has a vast standard library and ecosystem of third-party packages. Its popularity stems from easy learning curve, rapid development capabilities, and wide adoption in web development, data science, automation, scientific computing, and more."
      ],
      "metadata": {
        "id": "F5Nv14mpoNr-"
      }
    },
    {
      "cell_type": "markdown",
      "source": [
        "2. What is an interpreter in Python?\n",
        "- > An interpreter is the program that reads and executes Python code line by line. It parses the source code, converts it to bytecode, and runs it on a virtual machine, enabling interactive execution and quick feedback\n"
      ],
      "metadata": {
        "id": "SDVUp7AgolJ-"
      }
    },
    {
      "cell_type": "markdown",
      "source": [
        "3. What are pre-defined keywords in Python?\n",
        "- > Keywords are reserved words that have special meaning in Python’s syntax and cannot be used as identifiers. Examples include if, else, for, while, def, class, import, try, except, return, and lambda.\n"
      ],
      "metadata": {
        "id": "Q-231ilnownp"
      }
    },
    {
      "cell_type": "markdown",
      "source": [
        "4. Can keywords be used as variable names?\n",
        "- > No. Keywords are reserved by the language grammar and cannot be used as identifiers for variables, functions, classes, or other user-defined names.\n"
      ],
      "metadata": {
        "id": "IaUh-XR5o3-k"
      }
    },
    {
      "cell_type": "markdown",
      "source": [
        "5. What is mutability in Python?\n",
        "- > Mutability refers to whether an object’s state or contents can be changed after it is created. Mutable objects (like lists, dictionaries, and sets) can be modified in place; immutable objects (like strings, tuples, and numbers) cannot.\n"
      ],
      "metadata": {
        "id": "K93QZ8SWpF8y"
      }
    },
    {
      "cell_type": "markdown",
      "source": [
        "6. Why are lists mutable, but tuples are immutable?\n",
        "- > Lists are implemented as dynamic arrays that support item assignment, insertion, and removal. Tuples, by contrast, are fixed‐size sequences stored in a compact, immutable structure for performance and hashability, so their contents cannot be changed once created.\n"
      ],
      "metadata": {
        "id": "tjl6jYotpJtK"
      }
    },
    {
      "cell_type": "markdown",
      "source": [
        "7. What is the difference between == and is operators in Python?\n",
        "- > == checks for value equality, i.e., whether two objects have the same data.\n",
        "- >\tis checks for identity, i.e., whether two references point to the same object in memory.\n"
      ],
      "metadata": {
        "id": "Hlm8SYT3pTMl"
      }
    },
    {
      "cell_type": "markdown",
      "source": [
        "8. What are logical operators in Python?\n",
        "- > Python logical operators are and, or, and not. They combine or invert Boolean expressions:\n",
        "-\texpr1 and expr2 is True if both are True.\n",
        "-\texpr1 or expr2 is True if at least one is True.\n",
        "-\tnot expr inverts the truth value.\n"
      ],
      "metadata": {
        "id": "ba68fHSqpi-u"
      }
    },
    {
      "cell_type": "markdown",
      "source": [
        "9. What is type casting in Python?\n",
        "- > Type casting is converting a value from one data type to another, either explicitly (using constructors like int(), float(), str(), bool()) or implicitly by the interpreter during operations.\n"
      ],
      "metadata": {
        "id": "_XJaOvYnpwXB"
      }
    },
    {
      "cell_type": "markdown",
      "source": [
        "10. What is the difference between implicit and explicit type casting?\n",
        "- > Implicit casting (coercion) is automatic conversion by Python during operations.\n",
        "-  Explicit casting requires the programmer to call conversion functions.\n"
      ],
      "metadata": {
        "id": "itrmNzl_p6Zm"
      }
    },
    {
      "cell_type": "markdown",
      "source": [
        "11. What is the purpose of conditional statements in Python?\n",
        "- > Conditional statements allow execution of different code blocks based on Boolean conditions, enabling decision-making in programs.\n"
      ],
      "metadata": {
        "id": "NiHORx6qqJNT"
      }
    },
    {
      "cell_type": "markdown",
      "source": [
        "12. How does the elif statement work?\n",
        "- >An elif (else-if) provides an additional condition if the preceding if (or elif) was False. Python evaluates conditions sequentially until one is True, executes its block, then skips the rest.\n"
      ],
      "metadata": {
        "id": "R0SiEFAxqd3P"
      }
    },
    {
      "cell_type": "markdown",
      "source": [
        "13. What is the difference between for and while loops?\n",
        "- >\tfor loops iterate over a sequence (list, tuple, string, range, etc.) for a known number of elements.\n",
        "- >\twhile loops repeat as long as a given condition remains True, suitable when the number of iterations isn’t known beforehand.\n"
      ],
      "metadata": {
        "id": "wK9IULMPqovN"
      }
    },
    {
      "cell_type": "markdown",
      "source": [
        "14. Describe a scenario where a while loop is more suitable than a for loop.\n",
        "- > Reading user input until a valid value is entered. Since you don’t know in advance how many attempts the user will need, a while loop (while not valid_input:) is ideal.\n"
      ],
      "metadata": {
        "id": "-_UiZe5Jq3Jy"
      }
    },
    {
      "cell_type": "markdown",
      "source": [
        "#PRACTICAL QUESTIONS"
      ],
      "metadata": {
        "id": "t2fIDqW0rITt"
      }
    },
    {
      "cell_type": "markdown",
      "source": [
        "1.  Write a Python program to print \"Hello, World!\"\n",
        "- > Answer:-"
      ],
      "metadata": {
        "id": "TGtkbML_rSyD"
      }
    },
    {
      "cell_type": "code",
      "source": [
        "print(\"Hello, World!\")"
      ],
      "metadata": {
        "colab": {
          "base_uri": "https://localhost:8080/"
        },
        "id": "jDH9iIdirtBL",
        "outputId": "42e1f405-3d67-4ab4-d14d-6202050490c5"
      },
      "execution_count": 2,
      "outputs": [
        {
          "output_type": "stream",
          "name": "stdout",
          "text": [
            "Hello, World!\n"
          ]
        }
      ]
    },
    {
      "cell_type": "markdown",
      "source": [
        "2. Write a Python program that displays your name and age.\n",
        "- > Answer:-"
      ],
      "metadata": {
        "id": "fJcEopgfsA_P"
      }
    },
    {
      "cell_type": "code",
      "source": [
        "name = \"Alice\"\n",
        "age = 25\n",
        "print(\"Name:\", name)\n",
        "print(\"Age:\", age)\n"
      ],
      "metadata": {
        "colab": {
          "base_uri": "https://localhost:8080/"
        },
        "id": "DCcYY9xqsMoy",
        "outputId": "cb00914f-f800-417d-e8b6-da1223d9c31f"
      },
      "execution_count": 3,
      "outputs": [
        {
          "output_type": "stream",
          "name": "stdout",
          "text": [
            "Name: Alice\n",
            "Age: 25\n"
          ]
        }
      ]
    },
    {
      "cell_type": "markdown",
      "source": [
        "3. Write code to print all the pre-defined keywords in Python using the keyword library.\n",
        "- > Answer:-\n"
      ],
      "metadata": {
        "id": "NSz60LfPsSmz"
      }
    },
    {
      "cell_type": "code",
      "source": [
        "import keyword\n",
        "print(keyword.kwlist)\n"
      ],
      "metadata": {
        "colab": {
          "base_uri": "https://localhost:8080/"
        },
        "id": "uvLD-faysnyo",
        "outputId": "b20f7894-d888-4c47-a5b3-1ffb62e73c75"
      },
      "execution_count": 5,
      "outputs": [
        {
          "output_type": "stream",
          "name": "stdout",
          "text": [
            "['False', 'None', 'True', 'and', 'as', 'assert', 'async', 'await', 'break', 'class', 'continue', 'def', 'del', 'elif', 'else', 'except', 'finally', 'for', 'from', 'global', 'if', 'import', 'in', 'is', 'lambda', 'nonlocal', 'not', 'or', 'pass', 'raise', 'return', 'try', 'while', 'with', 'yield']\n"
          ]
        }
      ]
    },
    {
      "cell_type": "markdown",
      "source": [
        "4. Write a program that checks if a given word is a Python keyword.\n",
        "- > Answer:-"
      ],
      "metadata": {
        "id": "nPEvE_k7sx-n"
      }
    },
    {
      "cell_type": "code",
      "source": [
        "import keyword\n",
        "word = \"for\"\n",
        "if keyword.iskeyword(word):\n",
        "    print(f\"'{word}' is a Python keyword.\")\n",
        "else:\n",
        "    print(f\"'{word}' is not a Python keyword.\")\n",
        "\n"
      ],
      "metadata": {
        "colab": {
          "base_uri": "https://localhost:8080/"
        },
        "id": "uWEgG01Rs8JE",
        "outputId": "472ae3bf-71f4-4bdb-8776-e686d9d90bde"
      },
      "execution_count": 6,
      "outputs": [
        {
          "output_type": "stream",
          "name": "stdout",
          "text": [
            "'for' is a Python keyword.\n"
          ]
        }
      ]
    },
    {
      "cell_type": "markdown",
      "source": [
        "5. Create a list and tuple in Python, and demonstrate how attempting to change an element works differently\n",
        "for each.\n",
        "- > Answer:-"
      ],
      "metadata": {
        "id": "Tr9E0GrvtG1M"
      }
    },
    {
      "cell_type": "code",
      "source": [
        "my_list = [1, 2, 3]\n",
        "my_tuple = (1, 2, 3)\n"
      ],
      "metadata": {
        "id": "NMaeqzY_tdaB"
      },
      "execution_count": 8,
      "outputs": []
    },
    {
      "cell_type": "markdown",
      "source": [
        "- Mutable list can be changed:\n",
        "\n",
        "my_list[^1_0] = 10  # succeeds\n",
        "\n",
        "print(\"List after change:\", my_list)\n",
        "\n",
        "- > Immutable tuple cannot be changed:\n",
        "- try:\n",
        "   - my_tuple[^1_0] = 10\n",
        "   \n",
        "except TypeError as e:\n",
        "\n",
        "    print(\"Error:\", e)\n"
      ],
      "metadata": {
        "id": "BDnK4XLBt9Of"
      }
    },
    {
      "cell_type": "markdown",
      "source": [
        "6. Write a function to demonstrate the behavior of mutable and immutable arguments.\n",
        "- >         arg += arg\n",
        "        print(\"Inside function:\", arg)\n",
        "    except Exception as e:\n",
        "        print(\"Error inside function:\", e)\n",
        "\n",
        "- Immutable\n",
        "x = 5\n",
        "modify(x)\n",
        "print(\"Outside function:\", x)\n",
        "\n",
        "- Mutable\n",
        "y = [^1_5]\n",
        "modify(y)\n",
        "print(\"Outside function:\", y)\n"
      ],
      "metadata": {
        "id": "uOM6Bp0wuVix"
      }
    },
    {
      "cell_type": "markdown",
      "source": [
        "7. Write a program that performs basic arithmetic operations on two user-input numbers.\n",
        "- > Answer:-"
      ],
      "metadata": {
        "id": "Bc4be7iku4zJ"
      }
    },
    {
      "cell_type": "code",
      "source": [
        "a = float(input(\"Enter first number: \"))\n",
        "b = float(input(\"Enter second number: \"))\n",
        "print(\"Sum:\", a + b)\n",
        "print(\"Difference:\", a - b)\n",
        "print(\"Product:\", a * b)\n",
        "print(\"Quotient:\", a / b if b != 0 else \"Infinity\")\n",
        "print(\"Modulus:\", a % b if b != 0 else \"Undefined\")\n",
        "\n"
      ],
      "metadata": {
        "colab": {
          "base_uri": "https://localhost:8080/"
        },
        "id": "c-67bgRWvFL1",
        "outputId": "5cb4d7ae-bc1e-44e2-f5b6-558ff46ac1bd"
      },
      "execution_count": 13,
      "outputs": [
        {
          "output_type": "stream",
          "name": "stdout",
          "text": [
            "Enter first number: 1\n",
            "Enter second number: 2\n",
            "Sum: 3.0\n",
            "Difference: -1.0\n",
            "Product: 2.0\n",
            "Quotient: 0.5\n",
            "Modulus: 1.0\n"
          ]
        }
      ]
    },
    {
      "cell_type": "markdown",
      "source": [
        "8.  Write a program to demonstrate the use of logical operators.\n",
        "- > Answer:-"
      ],
      "metadata": {
        "id": "GtpQsFjZvQt4"
      }
    },
    {
      "cell_type": "code",
      "source": [
        "x = True\n",
        "y = False\n",
        "print(\"x and y:\", x and y)\n",
        "print(\"x or y:\", x or y)\n",
        "print(\"not x:\", not x)\n",
        "\n"
      ],
      "metadata": {
        "colab": {
          "base_uri": "https://localhost:8080/"
        },
        "id": "AG3RBf6Qvefx",
        "outputId": "aae5fd2e-3a10-4062-912b-c5b6c219a539"
      },
      "execution_count": 14,
      "outputs": [
        {
          "output_type": "stream",
          "name": "stdout",
          "text": [
            "x and y: False\n",
            "x or y: True\n",
            "not x: False\n"
          ]
        }
      ]
    },
    {
      "cell_type": "markdown",
      "source": [
        "9. Write a Python program to convert user input from string to integer, float, and boolean types.\n",
        "- > Answer:-"
      ],
      "metadata": {
        "id": "-JMZaOCAviSs"
      }
    },
    {
      "cell_type": "code",
      "source": [
        "s = input(\"Enter value: \")\n",
        "i = int(s)\n",
        "f = float(s)\n",
        "b = bool(s)\n",
        "print(i, type(i))\n",
        "print(f, type(f))\n",
        "print(b, type(b))\n",
        "\n"
      ],
      "metadata": {
        "colab": {
          "base_uri": "https://localhost:8080/"
        },
        "id": "rllLmbYyvvG2",
        "outputId": "2d790582-6102-4e1c-8ab2-fb2d8435f669"
      },
      "execution_count": 15,
      "outputs": [
        {
          "output_type": "stream",
          "name": "stdout",
          "text": [
            "Enter value: 2\n",
            "2 <class 'int'>\n",
            "2.0 <class 'float'>\n",
            "True <class 'bool'>\n"
          ]
        }
      ]
    },
    {
      "cell_type": "markdown",
      "source": [
        "10. Write code to demonstrate type casting with list elements.\n",
        "- > Answer:-"
      ],
      "metadata": {
        "id": "SqNNLuzWvzdI"
      }
    },
    {
      "cell_type": "code",
      "source": [
        "lst = [\"1\", \"2\", \"3\"]\n",
        "int_list = [int(x) for x in lst]\n",
        "print(int_list)\n"
      ],
      "metadata": {
        "colab": {
          "base_uri": "https://localhost:8080/"
        },
        "id": "2bNlmDI0wBKU",
        "outputId": "9109a834-6640-4cfd-fb05-82d658e33be1"
      },
      "execution_count": 16,
      "outputs": [
        {
          "output_type": "stream",
          "name": "stdout",
          "text": [
            "[1, 2, 3]\n"
          ]
        }
      ]
    },
    {
      "cell_type": "markdown",
      "source": [
        "11. Write a program that checks if a number is positive, negative, or zero.\n",
        "- > Answer:-\n"
      ],
      "metadata": {
        "id": "rCfVOjdlwGIo"
      }
    },
    {
      "cell_type": "code",
      "source": [
        "n = float(input(\"Enter number: \"))\n",
        "if n > 0:\n",
        "    print(\"Positive\")\n",
        "elif n < 0:\n",
        "    print(\"Negative\")\n",
        "else:\n",
        "    print(\"Zero\")\n",
        "\n"
      ],
      "metadata": {
        "colab": {
          "base_uri": "https://localhost:8080/"
        },
        "id": "mxSZd-dhwQd3",
        "outputId": "e505c65c-91cb-4dc4-ea65-1b827dcca017"
      },
      "execution_count": 17,
      "outputs": [
        {
          "output_type": "stream",
          "name": "stdout",
          "text": [
            "Enter number: 9\n",
            "Positive\n"
          ]
        }
      ]
    },
    {
      "cell_type": "markdown",
      "source": [
        "12. Write a for loop to print numbers from 1 to 10.\n",
        "- > Answer:-"
      ],
      "metadata": {
        "id": "UpJpK0Ccwet4"
      }
    },
    {
      "cell_type": "code",
      "source": [
        "for i in range(1, 11):\n",
        "    print(i)\n"
      ],
      "metadata": {
        "colab": {
          "base_uri": "https://localhost:8080/"
        },
        "id": "s40-zjDywspH",
        "outputId": "c7afbb48-562b-4424-cef8-005403f7f372"
      },
      "execution_count": 18,
      "outputs": [
        {
          "output_type": "stream",
          "name": "stdout",
          "text": [
            "1\n",
            "2\n",
            "3\n",
            "4\n",
            "5\n",
            "6\n",
            "7\n",
            "8\n",
            "9\n",
            "10\n"
          ]
        }
      ]
    },
    {
      "cell_type": "markdown",
      "source": [
        "13. Write a Python program to find the sum of all even numbers between 1 and 50.\n",
        "- > Answer:-"
      ],
      "metadata": {
        "id": "HyqDhvTrwvWN"
      }
    },
    {
      "cell_type": "code",
      "source": [
        "total = sum(i for i in range(1, 51) if i % 2 == 0)\n",
        "print(\"Sum of evens:\", total)\n",
        "\n"
      ],
      "metadata": {
        "colab": {
          "base_uri": "https://localhost:8080/"
        },
        "id": "SGsCRdulw7Ew",
        "outputId": "9cd5d472-5af0-4dce-a31f-01544ca2cfbf"
      },
      "execution_count": 19,
      "outputs": [
        {
          "output_type": "stream",
          "name": "stdout",
          "text": [
            "Sum of evens: 650\n"
          ]
        }
      ]
    },
    {
      "cell_type": "markdown",
      "source": [
        "14. Write a program to reverse a string using a while loop.\n",
        "- > Answer:-"
      ],
      "metadata": {
        "id": "1p5097N7w_j7"
      }
    },
    {
      "cell_type": "code",
      "source": [
        "s = input(\"Enter string: \")\n",
        "rev = \"\"\n",
        "i = len(s) - 1\n",
        "while i >= 0:\n",
        "    rev += s[i]\n",
        "    i -= 1\n",
        "print(\"Reversed:\", rev)\n"
      ],
      "metadata": {
        "colab": {
          "base_uri": "https://localhost:8080/"
        },
        "id": "lLj9kagnxKk_",
        "outputId": "b0844f5e-b6e3-4f2f-b2b5-41bd3ff12189"
      },
      "execution_count": 20,
      "outputs": [
        {
          "output_type": "stream",
          "name": "stdout",
          "text": [
            "Enter string: 6\n",
            "Reversed: 6\n"
          ]
        }
      ]
    },
    {
      "cell_type": "markdown",
      "source": [
        "15.  Write a Python program to calculate the factorial of a number provided by the user using a while loop.\n",
        "- > Answer:-"
      ],
      "metadata": {
        "id": "of4RabAFxPNU"
      }
    },
    {
      "cell_type": "code",
      "source": [
        "n = int(input(\"Enter non-negative integer: \"))\n",
        "fact = 1\n",
        "i = 1\n",
        "while i <= n:\n",
        "    fact *= i\n",
        "    i += 1\n",
        "print(f\"Factorial of {n} is {fact}\")\n"
      ],
      "metadata": {
        "colab": {
          "base_uri": "https://localhost:8080/"
        },
        "id": "QdvflYaxxdBp",
        "outputId": "07ebbe43-9897-43e1-f8c9-bd3dfa6ffc5f"
      },
      "execution_count": 21,
      "outputs": [
        {
          "output_type": "stream",
          "name": "stdout",
          "text": [
            "Enter non-negative integer: 7\n",
            "Factorial of 7 is 5040\n"
          ]
        }
      ]
    }
  ]
}